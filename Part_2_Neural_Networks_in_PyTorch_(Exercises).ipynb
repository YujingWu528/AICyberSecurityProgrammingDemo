{
  "nbformat": 4,
  "nbformat_minor": 0,
  "metadata": {
    "kernelspec": {
      "name": "python3",
      "display_name": "Python 3"
    },
    "language_info": {
      "codemirror_mode": {
        "name": "ipython",
        "version": 3
      },
      "file_extension": ".py",
      "mimetype": "text/x-python",
      "name": "python",
      "nbconvert_exporter": "python",
      "pygments_lexer": "ipython3",
      "version": "3.6.8"
    },
    "colab": {
      "name": "Part 2 - Neural Networks in PyTorch (Exercises).ipynb",
      "version": "0.3.2",
      "provenance": [],
      "include_colab_link": true
    },
    "accelerator": "GPU"
  },
  "cells": [
    {
      "cell_type": "markdown",
      "metadata": {
        "id": "view-in-github",
        "colab_type": "text"
      },
      "source": [
        "<a href=\"https://colab.research.google.com/github/YujingWu528/AICyberSecurityProgrammingDemo/blob/master/Part_2_Neural_Networks_in_PyTorch_(Exercises).ipynb\" target=\"_parent\"><img src=\"https://colab.research.google.com/assets/colab-badge.svg\" alt=\"Open In Colab\"/></a>"
      ]
    },
    {
      "cell_type": "markdown",
      "metadata": {
        "id": "cjua2fmpbxis",
        "colab_type": "text"
      },
      "source": [
        "# Neural networks with PyTorch\n",
        "\n",
        "Deep learning networks tend to be massive with dozens or hundreds of layers, that's where the term \"deep\" comes from. You can build one of these deep networks using only weight matrices as we did in the previous notebook, but in general it's very cumbersome and difficult to implement. PyTorch has a nice module `nn` that provides a nice way to efficiently build large neural networks."
      ]
    },
    {
      "cell_type": "code",
      "metadata": {
        "id": "LYo75AYKbxiu",
        "colab_type": "code",
        "colab": {}
      },
      "source": [
        "# Import necessary packages\n",
        "\n",
        "%matplotlib inline\n",
        "%config InlineBackend.figure_format = 'retina'\n",
        "\n",
        "import numpy as np\n",
        "\n",
        "import torch\n",
        "\n",
        "import helper\n",
        "\n",
        "import matplotlib.pyplot as plt"
      ],
      "execution_count": 0,
      "outputs": []
    },
    {
      "cell_type": "code",
      "metadata": {
        "id": "KC6duo_Q8NAR",
        "colab_type": "code",
        "colab": {}
      },
      "source": [
        ""
      ],
      "execution_count": 0,
      "outputs": []
    },
    {
      "cell_type": "code",
      "metadata": {
        "id": "S2nqXWfE8N8v",
        "colab_type": "code",
        "outputId": "331b5369-9d0f-4740-d283-cda6a6169188",
        "colab": {
          "base_uri": "https://localhost:8080/",
          "height": 34
        }
      },
      "source": [
        "from google.colab import drive\n",
        "drive.mount('/content/drive')\n",
        "my_folder = '/content/gdrive/My Drive/Colab Notebooks/ccc/'\n"
      ],
      "execution_count": 18,
      "outputs": [
        {
          "output_type": "stream",
          "text": [
            "Drive already mounted at /content/drive; to attempt to forcibly remount, call drive.mount(\"/content/drive\", force_remount=True).\n"
          ],
          "name": "stdout"
        }
      ]
    },
    {
      "cell_type": "markdown",
      "metadata": {
        "id": "xRmtL_5mbxix",
        "colab_type": "text"
      },
      "source": [
        "\n",
        "Now we're going to build a larger network that can solve a (formerly) difficult problem, identifying text in an image. Here we'll use the MNIST dataset which consists of greyscale handwritten digits. Each image is 28x28 pixels, you can see a sample below\n",
        "\n",
        "\n",
        "Our goal is to build a neural network that can take one of these images and predict the digit in the image.\n",
        "\n",
        "First up, we need to get our dataset. This is provided through the `torchvision` package. The code below will download the MNIST dataset, then create training and test datasets for us. Don't worry too much about the details here, you'll learn more about this later.\n",
        "\n",
        "![alt text](https://www.researchgate.net/profile/Steven_Young11/publication/306056875/figure/fig1/AS:393921575309346@1470929630835/Example-images-from-the-MNIST-dataset.png)"
      ]
    },
    {
      "cell_type": "code",
      "metadata": {
        "id": "X--cb7Xmbxiy",
        "colab_type": "code",
        "colab": {}
      },
      "source": [
        "### Run this cell\n",
        "\n",
        "from torchvision import datasets, transforms\n",
        "\n",
        "# Define a transform to normalize the data\n",
        "transform = transforms.Compose([transforms.ToTensor(),\n",
        "                              transforms.Normalize((0.5,), (0.5,))])\n",
        "\n",
        "# Download and load the training data\n",
        "trainset = datasets.MNIST('my_folder', download=True, train=True, transform=transform)\n",
        "\n",
        "trainloader = torch.utils.data.DataLoader(trainset, batch_size=64, shuffle=True)\n"
      ],
      "execution_count": 0,
      "outputs": []
    },
    {
      "cell_type": "markdown",
      "metadata": {
        "id": "2P7AdSQYbxi2",
        "colab_type": "text"
      },
      "source": [
        "We have the training data loaded into `trainloader` and we make that an iterator with `iter(trainloader)`. Later, we'll use this to loop through the dataset for training, like\n",
        "\n",
        "```python\n",
        "for image, label in trainloader:\n",
        "    ## do things with images and labels\n",
        "```\n",
        "\n",
        "You'll notice I created the `trainloader` with a batch size of 64, and `shuffle=True`. The batch size is the number of images we get in one iteration from the data loader and pass through our network, often called a *batch*. And `shuffle=True` tells it to shuffle the dataset every time we start going through the data loader again. But here I'm just grabbing the first batch so we can check out the data. We can see below that `images` is just a tensor with size `(64, 1, 28, 28)`. So, 64 images per batch, 1 color channel, and 28x28 images."
      ]
    },
    {
      "cell_type": "code",
      "metadata": {
        "id": "81_00IAEbxi3",
        "colab_type": "code",
        "outputId": "a4828686-abe6-4547-c0ef-8d3c8dface07",
        "colab": {
          "base_uri": "https://localhost:8080/",
          "height": 1000
        }
      },
      "source": [
        "dataiter = iter(trainloader)\n",
        "images, labels = dataiter.next()\n",
        "\n",
        "print(type(images))\n",
        "print(images.shape)\n",
        "print(labels.shape)\n",
        "\n",
        "print(images[0].shape)\n",
        "print(images[0])\n"
      ],
      "execution_count": 23,
      "outputs": [
        {
          "output_type": "stream",
          "text": [
            "<class 'torch.Tensor'>\n",
            "torch.Size([64, 1, 28, 28])\n",
            "torch.Size([64])\n",
            "torch.Size([1, 28, 28])\n",
            "tensor([[[-1.0000, -1.0000, -1.0000, -1.0000, -1.0000, -1.0000, -1.0000,\n",
            "          -1.0000, -1.0000, -1.0000, -1.0000, -1.0000, -1.0000, -1.0000,\n",
            "          -1.0000, -1.0000, -1.0000, -1.0000, -1.0000, -1.0000, -1.0000,\n",
            "          -1.0000, -1.0000, -1.0000, -1.0000, -1.0000, -1.0000, -1.0000],\n",
            "         [-1.0000, -1.0000, -1.0000, -1.0000, -1.0000, -1.0000, -1.0000,\n",
            "          -1.0000, -1.0000, -1.0000, -1.0000, -1.0000, -1.0000, -1.0000,\n",
            "          -1.0000, -1.0000, -1.0000, -1.0000, -1.0000, -1.0000, -1.0000,\n",
            "          -1.0000, -1.0000, -1.0000, -1.0000, -1.0000, -1.0000, -1.0000],\n",
            "         [-1.0000, -1.0000, -1.0000, -1.0000, -1.0000, -1.0000, -1.0000,\n",
            "          -1.0000, -1.0000, -1.0000, -1.0000, -1.0000, -1.0000, -1.0000,\n",
            "          -1.0000, -1.0000, -1.0000, -1.0000, -1.0000, -1.0000, -1.0000,\n",
            "          -1.0000, -1.0000, -1.0000, -1.0000, -1.0000, -1.0000, -1.0000],\n",
            "         [-1.0000, -1.0000, -1.0000, -1.0000, -1.0000, -1.0000, -1.0000,\n",
            "          -1.0000, -1.0000, -1.0000, -1.0000, -1.0000, -1.0000, -1.0000,\n",
            "          -1.0000, -1.0000, -1.0000, -1.0000, -1.0000, -1.0000, -1.0000,\n",
            "          -1.0000, -1.0000, -1.0000, -1.0000, -1.0000, -1.0000, -1.0000],\n",
            "         [-1.0000, -1.0000, -1.0000, -1.0000, -1.0000, -1.0000, -1.0000,\n",
            "          -1.0000, -1.0000, -1.0000, -1.0000, -1.0000, -1.0000, -1.0000,\n",
            "          -1.0000, -0.4588,  0.2941,  0.6941, -0.7098, -1.0000, -1.0000,\n",
            "          -1.0000, -1.0000, -1.0000, -1.0000, -1.0000, -1.0000, -1.0000],\n",
            "         [-1.0000, -1.0000, -1.0000, -1.0000, -1.0000, -1.0000, -1.0000,\n",
            "          -1.0000, -1.0000, -1.0000, -1.0000, -1.0000, -1.0000, -0.5451,\n",
            "           0.6392,  0.9922,  0.9922,  0.9216, -0.6941, -1.0000, -1.0000,\n",
            "          -1.0000, -1.0000, -1.0000, -1.0000, -1.0000, -1.0000, -1.0000],\n",
            "         [-1.0000, -1.0000, -1.0000, -1.0000, -1.0000, -1.0000, -1.0000,\n",
            "          -1.0000, -1.0000, -1.0000, -1.0000, -0.6706,  0.0824,  0.9686,\n",
            "           0.5059, -0.1451,  0.3333,  0.5608, -1.0000, -1.0000, -1.0000,\n",
            "          -1.0000, -1.0000, -1.0000, -1.0000, -1.0000, -1.0000, -1.0000],\n",
            "         [-1.0000, -1.0000, -1.0000, -1.0000, -1.0000, -1.0000, -1.0000,\n",
            "          -1.0000, -1.0000, -1.0000, -0.6784,  0.5922,  0.8824, -0.0275,\n",
            "          -0.9843, -0.8118,  0.8196, -0.0980, -1.0000, -1.0000, -0.4980,\n",
            "           0.4902,  0.4196, -1.0000, -1.0000, -1.0000, -1.0000, -1.0000],\n",
            "         [-1.0000, -1.0000, -1.0000, -1.0000, -1.0000, -1.0000, -1.0000,\n",
            "          -1.0000, -1.0000, -0.5216,  0.6549,  0.1765, -0.8902, -1.0000,\n",
            "          -0.9059,  0.1216,  0.1608, -0.8353, -1.0000, -0.4902,  0.7490,\n",
            "           0.9922,  0.2471, -1.0000, -1.0000, -1.0000, -1.0000, -1.0000],\n",
            "         [-1.0000, -1.0000, -1.0000, -1.0000, -1.0000, -1.0000, -1.0000,\n",
            "          -1.0000, -0.5216,  0.8824,  0.0039, -0.9216, -1.0000, -1.0000,\n",
            "          -0.6235, -0.5137, -1.0000, -1.0000, -0.7176,  0.7412,  0.7569,\n",
            "          -0.1529, -0.7020, -1.0000, -1.0000, -1.0000, -1.0000, -1.0000],\n",
            "         [-1.0000, -1.0000, -1.0000, -1.0000, -1.0000, -1.0000, -1.0000,\n",
            "          -1.0000,  0.3725,  0.3882, -0.9765, -1.0000, -1.0000, -1.0000,\n",
            "          -1.0000, -1.0000, -1.0000, -0.4824,  0.7412,  0.9922, -0.4275,\n",
            "          -1.0000, -1.0000, -1.0000, -1.0000, -1.0000, -1.0000, -1.0000],\n",
            "         [-1.0000, -1.0000, -1.0000, -1.0000, -1.0000, -1.0000, -1.0000,\n",
            "           0.1059,  0.8745, -0.8118, -1.0000, -1.0000, -1.0000, -1.0000,\n",
            "          -1.0000, -1.0000, -0.7098,  0.7333,  0.8118, -0.2157, -0.9373,\n",
            "          -1.0000, -1.0000, -1.0000, -1.0000, -1.0000, -1.0000, -1.0000],\n",
            "         [-1.0000, -1.0000, -1.0000, -1.0000, -1.0000, -1.0000, -1.0000,\n",
            "           0.6157,  0.5529, -0.9686, -1.0000, -1.0000, -1.0000, -1.0000,\n",
            "          -1.0000, -0.8118,  0.3725,  0.9529, -0.3176, -1.0000, -1.0000,\n",
            "          -1.0000, -1.0000, -1.0000, -1.0000, -1.0000, -1.0000, -1.0000],\n",
            "         [-1.0000, -1.0000, -1.0000, -1.0000, -1.0000, -1.0000, -1.0000,\n",
            "           0.2392,  0.9922,  0.3098, -0.7961, -1.0000, -1.0000, -1.0000,\n",
            "          -0.3569,  0.8431,  0.9529,  0.0039, -1.0000, -1.0000, -1.0000,\n",
            "          -1.0000, -1.0000, -1.0000, -1.0000, -1.0000, -1.0000, -1.0000],\n",
            "         [-1.0000, -1.0000, -1.0000, -1.0000, -1.0000, -1.0000, -1.0000,\n",
            "          -0.8980, -0.0588,  0.8745,  0.8039,  0.5137, -0.1451, -0.5608,\n",
            "           0.7333,  0.8431, -0.3490, -1.0000, -1.0000, -1.0000, -1.0000,\n",
            "          -1.0000, -1.0000, -1.0000, -1.0000, -1.0000, -1.0000, -1.0000],\n",
            "         [-1.0000, -1.0000, -1.0000, -1.0000, -1.0000, -1.0000, -1.0000,\n",
            "          -1.0000, -1.0000, -0.6000,  0.6706,  0.9686,  0.9922,  0.9922,\n",
            "           0.9922, -0.0902, -1.0000, -1.0000, -1.0000, -1.0000, -1.0000,\n",
            "          -1.0000, -1.0000, -1.0000, -1.0000, -1.0000, -1.0000, -1.0000],\n",
            "         [-1.0000, -1.0000, -1.0000, -1.0000, -1.0000, -1.0000, -1.0000,\n",
            "          -1.0000, -1.0000, -1.0000, -0.9373,  0.1294,  0.9922,  0.9922,\n",
            "           0.9922,  0.6941, -0.7490, -1.0000, -1.0000, -1.0000, -1.0000,\n",
            "          -1.0000, -1.0000, -1.0000, -1.0000, -1.0000, -1.0000, -1.0000],\n",
            "         [-1.0000, -1.0000, -1.0000, -1.0000, -1.0000, -1.0000, -1.0000,\n",
            "          -1.0000, -1.0000, -1.0000, -0.1529,  0.9922,  0.3725, -0.5608,\n",
            "           0.1608,  0.9922,  0.6000, -0.9529, -1.0000, -1.0000, -1.0000,\n",
            "          -1.0000, -1.0000, -1.0000, -1.0000, -1.0000, -1.0000, -1.0000],\n",
            "         [-1.0000, -1.0000, -1.0000, -1.0000, -1.0000, -1.0000, -1.0000,\n",
            "          -1.0000, -1.0000, -0.5451,  0.9608,  0.7490, -0.7020, -1.0000,\n",
            "          -0.8039,  0.7961,  0.9922, -0.0745, -1.0000, -1.0000, -1.0000,\n",
            "          -1.0000, -1.0000, -1.0000, -1.0000, -1.0000, -1.0000, -1.0000],\n",
            "         [-1.0000, -1.0000, -1.0000, -1.0000, -1.0000, -1.0000, -1.0000,\n",
            "          -1.0000, -0.7725,  0.7490,  0.8039, -0.7098, -1.0000, -1.0000,\n",
            "          -1.0000, -0.0118,  0.9922,  0.5843, -1.0000, -1.0000, -1.0000,\n",
            "          -1.0000, -1.0000, -1.0000, -1.0000, -1.0000, -1.0000, -1.0000],\n",
            "         [-1.0000, -1.0000, -1.0000, -1.0000, -1.0000, -1.0000, -1.0000,\n",
            "          -1.0000, -0.4510,  0.9922,  0.4824, -1.0000, -1.0000, -1.0000,\n",
            "          -1.0000, -0.4745,  0.9922,  0.4902, -1.0000, -1.0000, -1.0000,\n",
            "          -1.0000, -1.0000, -1.0000, -1.0000, -1.0000, -1.0000, -1.0000],\n",
            "         [-1.0000, -1.0000, -1.0000, -1.0000, -1.0000, -1.0000, -1.0000,\n",
            "          -1.0000, -0.2235,  0.9922, -0.1529, -1.0000, -1.0000, -1.0000,\n",
            "          -1.0000, -0.0118,  1.0000,  0.0510, -1.0000, -1.0000, -1.0000,\n",
            "          -1.0000, -1.0000, -1.0000, -1.0000, -1.0000, -1.0000, -1.0000],\n",
            "         [-1.0000, -1.0000, -1.0000, -1.0000, -1.0000, -1.0000, -1.0000,\n",
            "          -1.0000, -0.2078,  0.9922, -0.1373, -1.0000, -1.0000, -1.0000,\n",
            "          -0.8667,  0.5765,  0.8980, -0.7412, -1.0000, -1.0000, -1.0000,\n",
            "          -1.0000, -1.0000, -1.0000, -1.0000, -1.0000, -1.0000, -1.0000],\n",
            "         [-1.0000, -1.0000, -1.0000, -1.0000, -1.0000, -1.0000, -1.0000,\n",
            "          -1.0000, -0.0039,  0.9922,  0.6784, -0.6941, -1.0000, -0.2784,\n",
            "           0.6863,  0.9922,  0.4902, -1.0000, -1.0000, -1.0000, -1.0000,\n",
            "          -1.0000, -1.0000, -1.0000, -1.0000, -1.0000, -1.0000, -1.0000],\n",
            "         [-1.0000, -1.0000, -1.0000, -1.0000, -1.0000, -1.0000, -1.0000,\n",
            "          -1.0000, -1.0000, -1.0000, -1.0000, -1.0000, -1.0000, -1.0000,\n",
            "          -1.0000, -1.0000, -1.0000, -1.0000, -1.0000, -1.0000, -1.0000,\n",
            "          -1.0000, -1.0000, -1.0000, -1.0000, -1.0000, -1.0000, -1.0000],\n",
            "         [-1.0000, -1.0000, -1.0000, -1.0000, -1.0000, -1.0000, -1.0000,\n",
            "          -1.0000, -1.0000, -1.0000, -1.0000, -1.0000, -1.0000, -1.0000,\n",
            "          -1.0000, -1.0000, -1.0000, -1.0000, -1.0000, -1.0000, -1.0000,\n",
            "          -1.0000, -1.0000, -1.0000, -1.0000, -1.0000, -1.0000, -1.0000],\n",
            "         [-1.0000, -1.0000, -1.0000, -1.0000, -1.0000, -1.0000, -1.0000,\n",
            "          -1.0000, -1.0000, -1.0000, -1.0000, -1.0000, -1.0000, -1.0000,\n",
            "          -1.0000, -1.0000, -1.0000, -1.0000, -1.0000, -1.0000, -1.0000,\n",
            "          -1.0000, -1.0000, -1.0000, -1.0000, -1.0000, -1.0000, -1.0000],\n",
            "         [-1.0000, -1.0000, -1.0000, -1.0000, -1.0000, -1.0000, -1.0000,\n",
            "          -1.0000, -1.0000, -1.0000, -1.0000, -1.0000, -1.0000, -1.0000,\n",
            "          -1.0000, -1.0000, -1.0000, -1.0000, -1.0000, -1.0000, -1.0000,\n",
            "          -1.0000, -1.0000, -1.0000, -1.0000, -1.0000, -1.0000, -1.0000]]])\n"
          ],
          "name": "stdout"
        }
      ]
    },
    {
      "cell_type": "markdown",
      "metadata": {
        "id": "kCRRiXaCbxi6",
        "colab_type": "text"
      },
      "source": [
        "This is what one of the images looks like. "
      ]
    },
    {
      "cell_type": "code",
      "metadata": {
        "id": "nkQ4glLYbxi6",
        "colab_type": "code",
        "outputId": "ad3e42a9-bf64-423e-a9c6-bf9deb892518",
        "colab": {
          "base_uri": "https://localhost:8080/",
          "height": 267
        }
      },
      "source": [
        "plt.imshow(images[1].numpy().squeeze(), cmap='Greys_r');"
      ],
      "execution_count": 24,
      "outputs": [
        {
          "output_type": "display_data",
          "data": {
            "image/png": "[encoded data removed]",
            "text/plain": [
              "<Figure size 432x288 with 1 Axes>"
            ]
          },
          "metadata": {
            "tags": [],
            "image/png": {
              "width": 253,
              "height": 250
            }
          }
        }
      ]
    },
    {
      "cell_type": "markdown",
      "metadata": {
        "id": "iJseQ4ZPbxi9",
        "colab_type": "text"
      },
      "source": [
        "First, let's try to build a simple network for this dataset using weight matrices and matrix multiplications. Then, we'll see how to do it using PyTorch's `nn` module which provides a much more convenient and powerful method for defining network architectures.\n",
        "\n",
        "The networks you've seen so far are called *fully-connected* or *dense* networks. Each unit in one layer is connected to each unit in the next layer. In fully-connected networks, the input to each layer must be a one-dimensional vector (which can be stacked into a 2D tensor as a batch of multiple examples). However, our images are 28x28 2D tensors, so we need to convert them into 1D vectors. Thinking about sizes, we need to convert the batch of images with shape `(64, 1, 28, 28)` to a have a shape of `(64, 784)`, 784 is 28 times 28. This is typically called *flattening*, we flattened the 2D images into 1D vectors.\n",
        "\n",
        "Previously you built a network with one output unit. Here we need 10 output units, one for each digit. We want our network to predict the digit shown in an image, so what we'll do is calculate probabilities that the image is of any one digit or class. This ends up being a discrete probability distribution over the classes (digits) that tells us the most likely class for the image. That means we need 10 output units for the 10 classes (digits). We'll see how to convert the network output into a probability distribution next.\n",
        "\n",
        "> **Exercise:** Flatten the batch of images `images`. Then build a multi-layer network with 784 input units, 256 hidden units, and 10 output units using random tensors for the weights and biases. For now, use a sigmoid activation for the hidden layer. Leave the output layer without an activation, we'll add one that gives us a probability distribution next."
      ]
    },
    {
      "cell_type": "code",
      "metadata": {
        "id": "cIkivK1cbxi-",
        "colab_type": "code",
        "colab": {
          "base_uri": "https://localhost:8080/",
          "height": 34
        },
        "outputId": "21bb2873-c6fa-425e-9d98-c4f1f9603dab"
      },
      "source": [
        "## Your solution\n",
        "\n",
        "## Solution\n",
        "def activation(x):\n",
        "    return 1/(1+torch.exp(-x))\n",
        "\n",
        "# Flatten the input images\n",
        "inputs = images.view(images.shape[0], -1) #which function can be used to reshape? \n",
        "\n",
        "# Create parameters\n",
        "w1 = torch.randn(784, 256)\n",
        "b1 = torch.randn(256)\n",
        "\n",
        "w2 = torch.randn(256, 10)\n",
        "b2 = torch.randn(10)\n",
        "\n",
        "h = activation(torch.mm(inputs, w1) + b1)\n",
        "\n",
        "out = torch.mm(h, w2) + b2\n",
        "print(out.shape)"
      ],
      "execution_count": 25,
      "outputs": [
        {
          "output_type": "stream",
          "text": [
            "torch.Size([64, 10])\n"
          ],
          "name": "stdout"
        }
      ]
    },
    {
      "cell_type": "markdown",
      "metadata": {
        "id": "oUjtIiaNbxjA",
        "colab_type": "text"
      },
      "source": [
        "Now we have 10 outputs for our network. We want to pass in an image to our network and get out a probability distribution over the classes that tells us the likely class(es) the image belongs to. \n",
        "\n",
        "\n",
        "To calculate this probability distribution, we often use the [**softmax** function](https://en.wikipedia.org/wiki/Softmax_function). Mathematically this looks like\n",
        "\n",
        "$$\n",
        "\\Large \\sigma(x_i) = \\cfrac{e^{x_i}}{\\sum_k^K{e^{x_k}}}\n",
        "$$\n",
        "\n",
        "What this does is squish each input $x_i$ between 0 and 1 and normalizes the values to give you a proper probability distribution where the probabilites sum up to one.\n",
        "\n",
        "> **Exercise:** Implement a function `softmax` that performs the softmax calculation and returns probability distributions for each example in the batch. Note that you'll need to pay attention to the shapes when doing this. If you have a tensor `a` with shape `(64, 10)` and a tensor `b` with shape `(64,)`, doing `a/b` will give you an error because PyTorch will try to do the division across the columns (called broadcasting) but you'll get a size mismatch. The way to think about this is for each of the 64 examples, you only want to divide by one value, the sum in the denominator. So you need `b` to have a shape of `(64, 1)`. This way PyTorch will divide the 10 values in each row of `a` by the one value in each row of `b`. Pay attention to how you take the sum as well. You'll need to define the `dim` keyword in `torch.sum`. Setting `dim=0` takes the sum across the rows while `dim=1` takes the sum across the columns."
      ]
    },
    {
      "cell_type": "code",
      "metadata": {
        "id": "H2DnQu1KbxjB",
        "colab_type": "code",
        "colab": {
          "base_uri": "https://localhost:8080/",
          "height": 168
        },
        "outputId": "715f6689-ff2a-4d90-e4e5-3b09b8d51d16"
      },
      "source": [
        "def softmax(x):\n",
        "## TODO: Implement the softmax function here\n",
        "    a = torch.exp(x)\n",
        "  \n",
        "    b = torch.sum( a, dim = 1).view(-1,1)\n",
        "    return a/b\n",
        "\n",
        "# Here, out should be the output of the network in the previous excercise with shape (64,10)\n",
        "probabilities = softmax(out)\n",
        "\n",
        "# Does it have the right shape? Should be (64, 10)\n",
        "print(probabilities.shape)\n",
        "\n",
        "# Does it sum to 1?\n",
        "print(probabilities.sum(dim=1))"
      ],
      "execution_count": 34,
      "outputs": [
        {
          "output_type": "stream",
          "text": [
            "torch.Size([64, 10])\n",
            "tensor([1.0000, 1.0000, 1.0000, 1.0000, 1.0000, 1.0000, 1.0000, 1.0000, 1.0000,\n",
            "        1.0000, 1.0000, 1.0000, 1.0000, 1.0000, 1.0000, 1.0000, 1.0000, 1.0000,\n",
            "        1.0000, 1.0000, 1.0000, 1.0000, 1.0000, 1.0000, 1.0000, 1.0000, 1.0000,\n",
            "        1.0000, 1.0000, 1.0000, 1.0000, 1.0000, 1.0000, 1.0000, 1.0000, 1.0000,\n",
            "        1.0000, 1.0000, 1.0000, 1.0000, 1.0000, 1.0000, 1.0000, 1.0000, 1.0000,\n",
            "        1.0000, 1.0000, 1.0000, 1.0000, 1.0000, 1.0000, 1.0000, 1.0000, 1.0000,\n",
            "        1.0000, 1.0000, 1.0000, 1.0000, 1.0000, 1.0000, 1.0000, 1.0000, 1.0000,\n",
            "        1.0000])\n"
          ],
          "name": "stdout"
        }
      ]
    },
    {
      "cell_type": "markdown",
      "metadata": {
        "id": "vdrF6PuQbxjC",
        "colab_type": "text"
      },
      "source": [
        "## Building networks with PyTorch\n",
        "\n",
        "PyTorch provides a module `nn` that makes building networks much simpler. Here I'll show you how to build the same one as above with 784 inputs, 256 hidden units, 10 output units and a softmax output."
      ]
    },
    {
      "cell_type": "code",
      "metadata": {
        "id": "eemx0KfdbxjD",
        "colab_type": "code",
        "colab": {}
      },
      "source": [
        "from torch import nn"
      ],
      "execution_count": 0,
      "outputs": []
    },
    {
      "cell_type": "code",
      "metadata": {
        "id": "QIaW3tl8bxjF",
        "colab_type": "code",
        "colab": {}
      },
      "source": [
        "class Network(nn.Module):\n",
        "    def __init__(self):\n",
        "        super().__init__()\n",
        "        \n",
        "        # Inputs to hidden layer linear transformation\n",
        "        self.hidden = nn.Linear(784, 256)\n",
        "        # Output layer, 10 units - one for each digit\n",
        "        self.output = nn.Linear(256, 10)\n",
        "        \n",
        "        # Define sigmoid activation and softmax output \n",
        "        self.sigmoid = nn.Sigmoid()\n",
        "        self.softmax = nn.Softmax(dim=1)\n",
        "        \n",
        "        \n",
        "    def forward(self, x):\n",
        "        # Pass the input tensor through each of our operations\n",
        "        x = self.hidden(x)\n",
        "        x = self.sigmoid(x)\n",
        "        x = self.output(x)\n",
        "        x = self.softmax(x)\n",
        "        \n",
        "        return x"
      ],
      "execution_count": 0,
      "outputs": []
    },
    {
      "cell_type": "markdown",
      "metadata": {
        "id": "ep9NPXmFbxjH",
        "colab_type": "text"
      },
      "source": [
        "Let's go through this bit by bit.\n",
        "\n",
        "```python\n",
        "class Network(nn.Module):\n",
        "```\n",
        "\n",
        "Here we're inheriting from `nn.Module`. Combined with `super().__init__()` this creates a class that tracks the architecture and provides a lot of useful methods and attributes. It is mandatory to inherit from `nn.Module` when you're creating a class for your network. The name of the class itself can be anything.\n",
        "\n",
        "```python\n",
        "self.hidden = nn.Linear(784, 256)\n",
        "```\n",
        "\n",
        "This line creates a module for a linear transformation, $x\\mathbf{W} + b$, with 784 inputs and 256 outputs and assigns it to `self.hidden`. The module automatically creates the weight and bias tensors which we'll use in the `forward` method. You can access the weight and bias tensors once the network (`net`) is created with `net.hidden.weight` and `net.hidden.bias`.\n",
        "\n",
        "```python\n",
        "self.output = nn.Linear(256, 10)\n",
        "```\n",
        "\n",
        "Similarly, this creates another linear transformation with 256 inputs and 10 outputs.\n",
        "\n",
        "```python\n",
        "self.sigmoid = nn.Sigmoid()\n",
        "self.softmax = nn.Softmax(dim=1)\n",
        "```\n",
        "\n",
        "Here I defined operations for the sigmoid activation and softmax output. Setting `dim=1` in `nn.Softmax(dim=1)` calculates softmax across the columns.\n",
        "\n",
        "```python\n",
        "def forward(self, x):\n",
        "```\n",
        "\n",
        "PyTorch networks created with `nn.Module` must have a `forward` method defined. It takes in a tensor `x` and passes it through the operations you defined in the `__init__` method.\n",
        "\n",
        "```python\n",
        "x = self.hidden(x)\n",
        "x = self.sigmoid(x)\n",
        "x = self.output(x)\n",
        "x = self.softmax(x)\n",
        "```\n",
        "\n",
        "Here the input tensor `x` is passed through each operation and reassigned to `x`. We can see that the input tensor goes through the hidden layer, then a sigmoid function, then the output layer, and finally the softmax function. It doesn't matter what you name the variables here, as long as the inputs and outputs of the operations match the network architecture you want to build. The order in which you define things in the `__init__` method doesn't matter, but you'll need to sequence the operations correctly in the `forward` method.\n",
        "\n",
        "Now we can create a `Network` object."
      ]
    },
    {
      "cell_type": "code",
      "metadata": {
        "id": "WvztqoEnbxjI",
        "colab_type": "code",
        "outputId": "fb5460a1-9a68-4732-f340-402a7e2856ef",
        "colab": {
          "base_uri": "https://localhost:8080/",
          "height": 118
        }
      },
      "source": [
        "# Create the network and look at it's text representation\n",
        "model = Network()\n",
        "model"
      ],
      "execution_count": 39,
      "outputs": [
        {
          "output_type": "execute_result",
          "data": {
            "text/plain": [
              "Network(\n",
              "  (hidden): Linear(in_features=784, out_features=256, bias=True)\n",
              "  (output): Linear(in_features=256, out_features=10, bias=True)\n",
              "  (sigmoid): Sigmoid()\n",
              "  (softmax): Softmax()\n",
              ")"
            ]
          },
          "metadata": {
            "tags": []
          },
          "execution_count": 39
        }
      ]
    },
    {
      "cell_type": "markdown",
      "metadata": {
        "id": "4XpVw2vtbxjK",
        "colab_type": "text"
      },
      "source": [
        "You can define the network somewhat more concisely and clearly using the `torch.nn.functional` module. This is the most common way you'll see networks defined as many operations are simple element-wise functions. We normally import this module as `F`, `import torch.nn.functional as F`."
      ]
    },
    {
      "cell_type": "code",
      "metadata": {
        "id": "nSPjA0a2bxjK",
        "colab_type": "code",
        "colab": {}
      },
      "source": [
        "import torch.nn.functional as F\n",
        "\n",
        "class Network(nn.Module):\n",
        "    def __init__(self):\n",
        "        super().__init__()\n",
        "        # Inputs to hidden layer linear transformation\n",
        "        self.hidden = nn.Linear(784, 256)\n",
        "        \n",
        "        # Output layer, 10 units - one for each digit\n",
        "        self.output = nn.Linear(256, 10)\n",
        "        \n",
        "    def forward(self, x):\n",
        "        # Hidden layer with sigmoid activation\n",
        "        x = F.sigmoid(self.hidden(x))\n",
        "        \n",
        "        # Output layer with softmax activation\n",
        "        x = F.softmax(self.output(x), dim=1)\n",
        "        \n",
        "        return x"
      ],
      "execution_count": 0,
      "outputs": []
    },
    {
      "cell_type": "markdown",
      "metadata": {
        "id": "zWLBu56fbxjM",
        "colab_type": "text"
      },
      "source": [
        "### Activation functions\n",
        "\n",
        "So far we've only been looking at the sigmoid activation function, but in general any function can be used as an activation function. The only requirement is that for a network to approximate a non-linear function, the activation functions must be non-linear. Here are a few more examples of common activation functions: Tanh (hyperbolic tangent), and ReLU (rectified linear unit).\n",
        "\n",
        "\n",
        "In practice, the ReLU function is used almost exclusively as the activation function for hidden layers."
      ]
    },
    {
      "cell_type": "markdown",
      "metadata": {
        "id": "EZo7JOtNbxjM",
        "colab_type": "text"
      },
      "source": [
        "### Your Turn to Build a Network\n",
        "\n",
        "\n",
        "> **Exercise:** Create a network with 784 input units, a hidden layer with 128 units and a ReLU activation, then a hidden layer with 64 units and a ReLU activation, and finally an output layer with a softmax activation as shown above. You can use a ReLU activation with the `nn.ReLU` module or `F.relu` function.\n",
        "\n",
        "It's good practice to name your layers by their type of network, for instance 'fc' to represent a fully-connected layer. As you code your solution, use `fc1`, `fc2`, and `fc3` as your layer names."
      ]
    },
    {
      "cell_type": "code",
      "metadata": {
        "id": "rS80mvCVw6AK",
        "colab_type": "code",
        "colab": {}
      },
      "source": [
        "import torch.nn.functional as F"
      ],
      "execution_count": 0,
      "outputs": []
    },
    {
      "cell_type": "code",
      "metadata": {
        "scrolled": true,
        "id": "G6mmXdH3bxjN",
        "colab_type": "code",
        "colab": {}
      },
      "source": [
        "## Your solution here\n",
        "class Net(nn.Module):\n",
        "  def __init__(self):\n",
        "    super().__init__()\n",
        "    self.fc1 = nn.Linear(784,128)\n",
        "    self.fc2 = nn.Linear(128,64)\n",
        "    self.fc3 = nn.Linear(64,10)\n",
        "    \n",
        "  def forward(self,x):\n",
        "    x = F.relu(self.fc1(x))\n",
        "    x = F.relu(self.fc2(x))\n",
        "    x = F.softmax(self.fc3(x))\n",
        "    return x\n"
      ],
      "execution_count": 0,
      "outputs": []
    },
    {
      "cell_type": "code",
      "metadata": {
        "id": "8CztFWF8xMn-",
        "colab_type": "code",
        "outputId": "63eda378-6ad7-42ca-816f-9d92f35e8451",
        "colab": {
          "base_uri": "https://localhost:8080/",
          "height": 101
        }
      },
      "source": [
        "net = Net()\n",
        "net"
      ],
      "execution_count": 45,
      "outputs": [
        {
          "output_type": "execute_result",
          "data": {
            "text/plain": [
              "Net(\n",
              "  (fc1): Linear(in_features=784, out_features=128, bias=True)\n",
              "  (fc2): Linear(in_features=128, out_features=64, bias=True)\n",
              "  (fc3): Linear(in_features=64, out_features=10, bias=True)\n",
              ")"
            ]
          },
          "metadata": {
            "tags": []
          },
          "execution_count": 45
        }
      ]
    },
    {
      "cell_type": "markdown",
      "metadata": {
        "id": "1N6tUk_ibxjO",
        "colab_type": "text"
      },
      "source": [
        "### Initializing weights and biases\n",
        "\n",
        "The weights and such are automatically initialized for you, but it's possible to customize how they are initialized. The weights and biases are tensors attached to the layer you defined, you can get them with `model.fc1.weight` for instance."
      ]
    },
    {
      "cell_type": "code",
      "metadata": {
        "id": "xYLpcPawbxjP",
        "colab_type": "code",
        "outputId": "13e2f090-60d7-4a2c-9c87-5fca3d174b24",
        "colab": {
          "base_uri": "https://localhost:8080/",
          "height": 554
        }
      },
      "source": [
        "print(net.fc1.weight)\n",
        "print(net.fc1.bias)"
      ],
      "execution_count": 49,
      "outputs": [
        {
          "output_type": "stream",
          "text": [
            "Parameter containing:\n",
            "tensor([[-2.2817e-02,  7.0481e-03,  1.7450e-02,  ..., -1.3238e-02,\n",
            "          1.8484e-02,  2.5759e-02],\n",
            "        [-2.4613e-02, -1.9801e-03,  3.5667e-02,  ...,  1.4857e-02,\n",
            "         -2.1696e-02,  1.2362e-02],\n",
            "        [-5.3701e-03,  3.2407e-02, -1.2335e-02,  ..., -3.5692e-05,\n",
            "         -1.9140e-02,  2.4837e-02],\n",
            "        ...,\n",
            "        [ 2.3481e-02, -3.1437e-02,  2.0342e-03,  ...,  2.3231e-02,\n",
            "          1.7245e-02, -2.0861e-02],\n",
            "        [ 1.7618e-02,  2.2157e-03,  2.1191e-02,  ...,  3.4372e-02,\n",
            "          1.2678e-03,  2.0888e-02],\n",
            "        [ 3.2472e-02,  1.4026e-02,  6.1736e-03,  ...,  7.2673e-03,\n",
            "          1.8595e-02, -1.0217e-02]], requires_grad=True)\n",
            "Parameter containing:\n",
            "tensor([ 0.0003,  0.0256, -0.0345, -0.0170, -0.0063,  0.0012, -0.0323, -0.0120,\n",
            "         0.0271, -0.0266,  0.0099, -0.0259,  0.0066,  0.0215,  0.0201, -0.0317,\n",
            "        -0.0033, -0.0226, -0.0227,  0.0264,  0.0050,  0.0098, -0.0122,  0.0243,\n",
            "         0.0020,  0.0340, -0.0230,  0.0212, -0.0241,  0.0081, -0.0335,  0.0236,\n",
            "         0.0225,  0.0300,  0.0130,  0.0154, -0.0123,  0.0342,  0.0029, -0.0148,\n",
            "        -0.0101, -0.0241, -0.0058,  0.0204, -0.0161, -0.0143,  0.0059, -0.0151,\n",
            "         0.0095, -0.0167, -0.0159, -0.0292, -0.0202, -0.0066, -0.0022, -0.0069,\n",
            "         0.0026,  0.0233, -0.0344, -0.0272, -0.0032, -0.0071, -0.0194, -0.0159,\n",
            "         0.0083, -0.0016,  0.0176, -0.0129, -0.0341, -0.0268,  0.0240,  0.0088,\n",
            "         0.0056,  0.0176, -0.0194,  0.0005,  0.0109,  0.0219,  0.0244, -0.0064,\n",
            "         0.0286, -0.0354,  0.0109,  0.0190, -0.0140,  0.0078, -0.0131,  0.0085,\n",
            "        -0.0224,  0.0025, -0.0328, -0.0313,  0.0250, -0.0084, -0.0074,  0.0121,\n",
            "        -0.0023, -0.0025,  0.0076,  0.0211,  0.0020,  0.0344, -0.0125, -0.0040,\n",
            "        -0.0280,  0.0128,  0.0179, -0.0097,  0.0071,  0.0347, -0.0047,  0.0166,\n",
            "        -0.0056,  0.0315, -0.0258,  0.0133,  0.0322,  0.0341,  0.0040, -0.0131,\n",
            "         0.0237,  0.0049,  0.0256,  0.0037, -0.0220, -0.0111, -0.0035,  0.0083],\n",
            "       requires_grad=True)\n"
          ],
          "name": "stdout"
        }
      ]
    },
    {
      "cell_type": "markdown",
      "metadata": {
        "id": "IBIrz53DbxjR",
        "colab_type": "text"
      },
      "source": [
        "For custom initialization, we want to modify these tensors in place. These are actually autograd *Variables*, so we need to get back the actual tensors with `model.fc1.weight.data`. Once we have the tensors, we can fill them with zeros (for biases) or random normal values."
      ]
    },
    {
      "cell_type": "code",
      "metadata": {
        "id": "LugZ7aFgbxjR",
        "colab_type": "code",
        "colab": {
          "base_uri": "https://localhost:8080/",
          "height": 118
        },
        "outputId": "1f81b008-4343-4d7e-af5e-2f50e4725e54"
      },
      "source": [
        "# Set biases to all zeros\n",
        "net.fc1.bias.data.fill_(0)"
      ],
      "execution_count": 51,
      "outputs": [
        {
          "output_type": "execute_result",
          "data": {
            "text/plain": [
              "tensor([0., 0., 0., 0., 0., 0., 0., 0., 0., 0., 0., 0., 0., 0., 0., 0., 0., 0., 0., 0., 0., 0., 0., 0.,\n",
              "        0., 0., 0., 0., 0., 0., 0., 0., 0., 0., 0., 0., 0., 0., 0., 0., 0., 0., 0., 0., 0., 0., 0., 0.,\n",
              "        0., 0., 0., 0., 0., 0., 0., 0., 0., 0., 0., 0., 0., 0., 0., 0., 0., 0., 0., 0., 0., 0., 0., 0.,\n",
              "        0., 0., 0., 0., 0., 0., 0., 0., 0., 0., 0., 0., 0., 0., 0., 0., 0., 0., 0., 0., 0., 0., 0., 0.,\n",
              "        0., 0., 0., 0., 0., 0., 0., 0., 0., 0., 0., 0., 0., 0., 0., 0., 0., 0., 0., 0., 0., 0., 0., 0.,\n",
              "        0., 0., 0., 0., 0., 0., 0., 0.])"
            ]
          },
          "metadata": {
            "tags": []
          },
          "execution_count": 51
        }
      ]
    },
    {
      "cell_type": "code",
      "metadata": {
        "id": "tntHkKLXbxjT",
        "colab_type": "code",
        "colab": {
          "base_uri": "https://localhost:8080/",
          "height": 235
        },
        "outputId": "5cfd5ed4-e827-4e0c-8951-64092b0b53cc"
      },
      "source": [
        "# sample from random normal with standard dev = 0.01\n",
        "net.fc1.weight.data.normal_(std=0.01)"
      ],
      "execution_count": 55,
      "outputs": [
        {
          "output_type": "execute_result",
          "data": {
            "text/plain": [
              "tensor([[-9.2143e-03, -2.2339e-02, -1.6387e-02,  ..., -3.3868e-04,\n",
              "          1.1165e-02, -3.9316e-03],\n",
              "        [ 2.5247e-03, -1.3844e-02,  7.5101e-04,  ..., -8.3103e-03,\n",
              "          8.7798e-03,  2.9999e-03],\n",
              "        [-1.6015e-03, -1.0480e-03, -1.1417e-02,  ..., -1.3980e-03,\n",
              "         -8.2018e-03,  1.9497e-02],\n",
              "        ...,\n",
              "        [ 2.9768e-03, -1.2452e-02,  4.7222e-04,  ...,  6.0966e-03,\n",
              "         -7.4394e-03,  1.1012e-02],\n",
              "        [ 8.6355e-04, -1.1934e-02, -2.0443e-02,  ..., -1.5936e-02,\n",
              "         -2.6800e-03, -1.2587e-02],\n",
              "        [-3.3358e-03,  4.8732e-03, -6.6000e-03,  ..., -1.4440e-05,\n",
              "          3.3523e-03,  3.2026e-04]])"
            ]
          },
          "metadata": {
            "tags": []
          },
          "execution_count": 55
        }
      ]
    },
    {
      "cell_type": "markdown",
      "metadata": {
        "id": "Bv16DAGXbxjY",
        "colab_type": "text"
      },
      "source": [
        "As you can see above, our network has basically no idea what this digit is. It's because we haven't trained it yet, all the weights are random!\n",
        "\n",
        "### Using `nn.Sequential`\n",
        "\n",
        "PyTorch provides a convenient way to build networks like this where a tensor is passed sequentially through operations, `nn.Sequential` ([documentation](https://pytorch.org/docs/master/nn.html#torch.nn.Sequential)). Using this to build the equivalent network:"
      ]
    },
    {
      "cell_type": "code",
      "metadata": {
        "id": "uwfIK2o_bxjZ",
        "colab_type": "code",
        "colab": {
          "base_uri": "https://localhost:8080/",
          "height": 525
        },
        "outputId": "2ed20a5f-2407-423d-9d87-2f037396d33f"
      },
      "source": [
        "# Hyperparameters for our network\n",
        "input_size = 784\n",
        "hidden_sizes = [128, 64]\n",
        "output_size = 10\n",
        "\n",
        "# Build a feed-forward network\n",
        "model = nn.Sequential(nn.Linear(9, 64),\n",
        "                      nn.ReLU(),\n",
        "                      nn.Linear(64, 128),\n",
        "                      nn.ReLU(),\n",
        "                       nn.Linear(128, 32),\n",
        "                      nn.ReLU(),\n",
        "                      nn.Linear(32, 10),\n",
        "                      nn.Softmax(dim=1))\n",
        "\n",
        "\n",
        "\n",
        "print(model)\n",
        "\n",
        "# Forward pass through the network and display output\n",
        "images, labels = next(iter(trainloader))\n",
        "\n",
        "images.resize_(images.shape[0], 1, 784)\n",
        "output = model.forward(images[0,:])\n",
        "helper.view_classify(images[0].view(1, 28, 28), output)"
      ],
      "execution_count": 56,
      "outputs": [
        {
          "output_type": "stream",
          "text": [
            "Sequential(\n",
            "  (0): Linear(in_features=9, out_features=64, bias=True)\n",
            "  (1): ReLU()\n",
            "  (2): Linear(in_features=64, out_features=128, bias=True)\n",
            "  (3): ReLU()\n",
            "  (4): Linear(in_features=128, out_features=32, bias=True)\n",
            "  (5): ReLU()\n",
            "  (6): Linear(in_features=32, out_features=10, bias=True)\n",
            "  (7): Softmax()\n",
            ")\n"
          ],
          "name": "stdout"
        },
        {
          "output_type": "error",
          "ename": "RuntimeError",
          "evalue": "ignored",
          "traceback": [
            "\u001b[0;31m---------------------------------------------------------------------------\u001b[0m",
            "\u001b[0;31mRuntimeError\u001b[0m                              Traceback (most recent call last)",
            "\u001b[0;32m<ipython-input-56-c3e12f2f1d08>\u001b[0m in \u001b[0;36m<module>\u001b[0;34m()\u001b[0m\n\u001b[1;32m     21\u001b[0m \u001b[0;34m\u001b[0m\u001b[0m\n\u001b[1;32m     22\u001b[0m \u001b[0mimages\u001b[0m\u001b[0;34m.\u001b[0m\u001b[0mresize_\u001b[0m\u001b[0;34m(\u001b[0m\u001b[0mimages\u001b[0m\u001b[0;34m.\u001b[0m\u001b[0mshape\u001b[0m\u001b[0;34m[\u001b[0m\u001b[0;36m0\u001b[0m\u001b[0;34m]\u001b[0m\u001b[0;34m,\u001b[0m \u001b[0;36m1\u001b[0m\u001b[0;34m,\u001b[0m \u001b[0;36m784\u001b[0m\u001b[0;34m)\u001b[0m\u001b[0;34m\u001b[0m\u001b[0;34m\u001b[0m\u001b[0m\n\u001b[0;32m---> 23\u001b[0;31m \u001b[0moutput\u001b[0m \u001b[0;34m=\u001b[0m \u001b[0mmodel\u001b[0m\u001b[0;34m.\u001b[0m\u001b[0mforward\u001b[0m\u001b[0;34m(\u001b[0m\u001b[0mimages\u001b[0m\u001b[0;34m[\u001b[0m\u001b[0;36m0\u001b[0m\u001b[0;34m,\u001b[0m\u001b[0;34m:\u001b[0m\u001b[0;34m]\u001b[0m\u001b[0;34m)\u001b[0m\u001b[0;34m\u001b[0m\u001b[0;34m\u001b[0m\u001b[0m\n\u001b[0m\u001b[1;32m     24\u001b[0m \u001b[0mhelper\u001b[0m\u001b[0;34m.\u001b[0m\u001b[0mview_classify\u001b[0m\u001b[0;34m(\u001b[0m\u001b[0mimages\u001b[0m\u001b[0;34m[\u001b[0m\u001b[0;36m0\u001b[0m\u001b[0;34m]\u001b[0m\u001b[0;34m.\u001b[0m\u001b[0mview\u001b[0m\u001b[0;34m(\u001b[0m\u001b[0;36m1\u001b[0m\u001b[0;34m,\u001b[0m \u001b[0;36m28\u001b[0m\u001b[0;34m,\u001b[0m \u001b[0;36m28\u001b[0m\u001b[0;34m)\u001b[0m\u001b[0;34m,\u001b[0m \u001b[0moutput\u001b[0m\u001b[0;34m)\u001b[0m\u001b[0;34m\u001b[0m\u001b[0;34m\u001b[0m\u001b[0m\n",
            "\u001b[0;32m/usr/local/lib/python3.6/dist-packages/torch/nn/modules/container.py\u001b[0m in \u001b[0;36mforward\u001b[0;34m(self, input)\u001b[0m\n\u001b[1;32m     90\u001b[0m     \u001b[0;32mdef\u001b[0m \u001b[0mforward\u001b[0m\u001b[0;34m(\u001b[0m\u001b[0mself\u001b[0m\u001b[0;34m,\u001b[0m \u001b[0minput\u001b[0m\u001b[0;34m)\u001b[0m\u001b[0;34m:\u001b[0m\u001b[0;34m\u001b[0m\u001b[0;34m\u001b[0m\u001b[0m\n\u001b[1;32m     91\u001b[0m         \u001b[0;32mfor\u001b[0m \u001b[0mmodule\u001b[0m \u001b[0;32min\u001b[0m \u001b[0mself\u001b[0m\u001b[0;34m.\u001b[0m\u001b[0m_modules\u001b[0m\u001b[0;34m.\u001b[0m\u001b[0mvalues\u001b[0m\u001b[0;34m(\u001b[0m\u001b[0;34m)\u001b[0m\u001b[0;34m:\u001b[0m\u001b[0;34m\u001b[0m\u001b[0;34m\u001b[0m\u001b[0m\n\u001b[0;32m---> 92\u001b[0;31m             \u001b[0minput\u001b[0m \u001b[0;34m=\u001b[0m \u001b[0mmodule\u001b[0m\u001b[0;34m(\u001b[0m\u001b[0minput\u001b[0m\u001b[0;34m)\u001b[0m\u001b[0;34m\u001b[0m\u001b[0;34m\u001b[0m\u001b[0m\n\u001b[0m\u001b[1;32m     93\u001b[0m         \u001b[0;32mreturn\u001b[0m \u001b[0minput\u001b[0m\u001b[0;34m\u001b[0m\u001b[0;34m\u001b[0m\u001b[0m\n\u001b[1;32m     94\u001b[0m \u001b[0;34m\u001b[0m\u001b[0m\n",
            "\u001b[0;32m/usr/local/lib/python3.6/dist-packages/torch/nn/modules/module.py\u001b[0m in \u001b[0;36m__call__\u001b[0;34m(self, *input, **kwargs)\u001b[0m\n\u001b[1;32m    491\u001b[0m             \u001b[0mresult\u001b[0m \u001b[0;34m=\u001b[0m \u001b[0mself\u001b[0m\u001b[0;34m.\u001b[0m\u001b[0m_slow_forward\u001b[0m\u001b[0;34m(\u001b[0m\u001b[0;34m*\u001b[0m\u001b[0minput\u001b[0m\u001b[0;34m,\u001b[0m \u001b[0;34m**\u001b[0m\u001b[0mkwargs\u001b[0m\u001b[0;34m)\u001b[0m\u001b[0;34m\u001b[0m\u001b[0;34m\u001b[0m\u001b[0m\n\u001b[1;32m    492\u001b[0m         \u001b[0;32melse\u001b[0m\u001b[0;34m:\u001b[0m\u001b[0;34m\u001b[0m\u001b[0;34m\u001b[0m\u001b[0m\n\u001b[0;32m--> 493\u001b[0;31m             \u001b[0mresult\u001b[0m \u001b[0;34m=\u001b[0m \u001b[0mself\u001b[0m\u001b[0;34m.\u001b[0m\u001b[0mforward\u001b[0m\u001b[0;34m(\u001b[0m\u001b[0;34m*\u001b[0m\u001b[0minput\u001b[0m\u001b[0;34m,\u001b[0m \u001b[0;34m**\u001b[0m\u001b[0mkwargs\u001b[0m\u001b[0;34m)\u001b[0m\u001b[0;34m\u001b[0m\u001b[0;34m\u001b[0m\u001b[0m\n\u001b[0m\u001b[1;32m    494\u001b[0m         \u001b[0;32mfor\u001b[0m \u001b[0mhook\u001b[0m \u001b[0;32min\u001b[0m \u001b[0mself\u001b[0m\u001b[0;34m.\u001b[0m\u001b[0m_forward_hooks\u001b[0m\u001b[0;34m.\u001b[0m\u001b[0mvalues\u001b[0m\u001b[0;34m(\u001b[0m\u001b[0;34m)\u001b[0m\u001b[0;34m:\u001b[0m\u001b[0;34m\u001b[0m\u001b[0;34m\u001b[0m\u001b[0m\n\u001b[1;32m    495\u001b[0m             \u001b[0mhook_result\u001b[0m \u001b[0;34m=\u001b[0m \u001b[0mhook\u001b[0m\u001b[0;34m(\u001b[0m\u001b[0mself\u001b[0m\u001b[0;34m,\u001b[0m \u001b[0minput\u001b[0m\u001b[0;34m,\u001b[0m \u001b[0mresult\u001b[0m\u001b[0;34m)\u001b[0m\u001b[0;34m\u001b[0m\u001b[0;34m\u001b[0m\u001b[0m\n",
            "\u001b[0;32m/usr/local/lib/python3.6/dist-packages/torch/nn/modules/linear.py\u001b[0m in \u001b[0;36mforward\u001b[0;34m(self, input)\u001b[0m\n\u001b[1;32m     90\u001b[0m     \u001b[0;34m@\u001b[0m\u001b[0mweak_script_method\u001b[0m\u001b[0;34m\u001b[0m\u001b[0;34m\u001b[0m\u001b[0m\n\u001b[1;32m     91\u001b[0m     \u001b[0;32mdef\u001b[0m \u001b[0mforward\u001b[0m\u001b[0;34m(\u001b[0m\u001b[0mself\u001b[0m\u001b[0;34m,\u001b[0m \u001b[0minput\u001b[0m\u001b[0;34m)\u001b[0m\u001b[0;34m:\u001b[0m\u001b[0;34m\u001b[0m\u001b[0;34m\u001b[0m\u001b[0m\n\u001b[0;32m---> 92\u001b[0;31m         \u001b[0;32mreturn\u001b[0m \u001b[0mF\u001b[0m\u001b[0;34m.\u001b[0m\u001b[0mlinear\u001b[0m\u001b[0;34m(\u001b[0m\u001b[0minput\u001b[0m\u001b[0;34m,\u001b[0m \u001b[0mself\u001b[0m\u001b[0;34m.\u001b[0m\u001b[0mweight\u001b[0m\u001b[0;34m,\u001b[0m \u001b[0mself\u001b[0m\u001b[0;34m.\u001b[0m\u001b[0mbias\u001b[0m\u001b[0;34m)\u001b[0m\u001b[0;34m\u001b[0m\u001b[0;34m\u001b[0m\u001b[0m\n\u001b[0m\u001b[1;32m     93\u001b[0m \u001b[0;34m\u001b[0m\u001b[0m\n\u001b[1;32m     94\u001b[0m     \u001b[0;32mdef\u001b[0m \u001b[0mextra_repr\u001b[0m\u001b[0;34m(\u001b[0m\u001b[0mself\u001b[0m\u001b[0;34m)\u001b[0m\u001b[0;34m:\u001b[0m\u001b[0;34m\u001b[0m\u001b[0;34m\u001b[0m\u001b[0m\n",
            "\u001b[0;32m/usr/local/lib/python3.6/dist-packages/torch/nn/functional.py\u001b[0m in \u001b[0;36mlinear\u001b[0;34m(input, weight, bias)\u001b[0m\n\u001b[1;32m   1404\u001b[0m     \u001b[0;32mif\u001b[0m \u001b[0minput\u001b[0m\u001b[0;34m.\u001b[0m\u001b[0mdim\u001b[0m\u001b[0;34m(\u001b[0m\u001b[0;34m)\u001b[0m \u001b[0;34m==\u001b[0m \u001b[0;36m2\u001b[0m \u001b[0;32mand\u001b[0m \u001b[0mbias\u001b[0m \u001b[0;32mis\u001b[0m \u001b[0;32mnot\u001b[0m \u001b[0;32mNone\u001b[0m\u001b[0;34m:\u001b[0m\u001b[0;34m\u001b[0m\u001b[0;34m\u001b[0m\u001b[0m\n\u001b[1;32m   1405\u001b[0m         \u001b[0;31m# fused op is marginally faster\u001b[0m\u001b[0;34m\u001b[0m\u001b[0;34m\u001b[0m\u001b[0;34m\u001b[0m\u001b[0m\n\u001b[0;32m-> 1406\u001b[0;31m         \u001b[0mret\u001b[0m \u001b[0;34m=\u001b[0m \u001b[0mtorch\u001b[0m\u001b[0;34m.\u001b[0m\u001b[0maddmm\u001b[0m\u001b[0;34m(\u001b[0m\u001b[0mbias\u001b[0m\u001b[0;34m,\u001b[0m \u001b[0minput\u001b[0m\u001b[0;34m,\u001b[0m \u001b[0mweight\u001b[0m\u001b[0;34m.\u001b[0m\u001b[0mt\u001b[0m\u001b[0;34m(\u001b[0m\u001b[0;34m)\u001b[0m\u001b[0;34m)\u001b[0m\u001b[0;34m\u001b[0m\u001b[0;34m\u001b[0m\u001b[0m\n\u001b[0m\u001b[1;32m   1407\u001b[0m     \u001b[0;32melse\u001b[0m\u001b[0;34m:\u001b[0m\u001b[0;34m\u001b[0m\u001b[0;34m\u001b[0m\u001b[0m\n\u001b[1;32m   1408\u001b[0m         \u001b[0moutput\u001b[0m \u001b[0;34m=\u001b[0m \u001b[0minput\u001b[0m\u001b[0;34m.\u001b[0m\u001b[0mmatmul\u001b[0m\u001b[0;34m(\u001b[0m\u001b[0mweight\u001b[0m\u001b[0;34m.\u001b[0m\u001b[0mt\u001b[0m\u001b[0;34m(\u001b[0m\u001b[0;34m)\u001b[0m\u001b[0;34m)\u001b[0m\u001b[0;34m\u001b[0m\u001b[0;34m\u001b[0m\u001b[0m\n",
            "\u001b[0;31mRuntimeError\u001b[0m: size mismatch, m1: [1 x 784], m2: [9 x 64] at /pytorch/aten/src/TH/generic/THTensorMath.cpp:961"
          ]
        }
      ]
    },
    {
      "cell_type": "markdown",
      "metadata": {
        "id": "CuU7E740bxjf",
        "colab_type": "text"
      },
      "source": [
        "Here our model is the same as before: 784 input units, a hidden layer with 128 units, ReLU activation, 64 unit hidden layer, another ReLU, then the output layer with 10 units, and the softmax output.\n",
        "\n",
        "The operations are available by passing in the appropriate index. For example, if you want to get first Linear operation and look at the weights, you'd use `model[0]`."
      ]
    },
    {
      "cell_type": "code",
      "metadata": {
        "id": "bGeIzPyTbxjg",
        "colab_type": "code",
        "colab": {
          "base_uri": "https://localhost:8080/",
          "height": 1000
        },
        "outputId": "ed41bbde-b6cc-4466-a107-239eab72f40f"
      },
      "source": [
        "print(model[0])\n",
        "model[0].weight"
      ],
      "execution_count": 57,
      "outputs": [
        {
          "output_type": "stream",
          "text": [
            "Linear(in_features=9, out_features=64, bias=True)\n"
          ],
          "name": "stdout"
        },
        {
          "output_type": "execute_result",
          "data": {
            "text/plain": [
              "Parameter containing:\n",
              "tensor([[ 0.2130,  0.0748, -0.2729,  0.0687, -0.2588, -0.0693,  0.1980,  0.2224,\n",
              "         -0.3269],\n",
              "        [ 0.0974,  0.0549, -0.0946, -0.1187,  0.0440,  0.0612, -0.0549,  0.2909,\n",
              "          0.2547],\n",
              "        [-0.2603, -0.0292, -0.2927, -0.0586, -0.1772, -0.1595, -0.0116,  0.0547,\n",
              "          0.1189],\n",
              "        [-0.2039,  0.0046,  0.1137,  0.0086, -0.3269, -0.0039,  0.2493, -0.2257,\n",
              "         -0.1864],\n",
              "        [ 0.1595, -0.2449,  0.1990,  0.3083, -0.2465,  0.2355,  0.0108, -0.0909,\n",
              "          0.3332],\n",
              "        [ 0.1663,  0.0148, -0.2411, -0.2021, -0.2946, -0.3293,  0.2586, -0.2775,\n",
              "          0.0288],\n",
              "        [ 0.0796, -0.2543,  0.1277,  0.0920, -0.0684,  0.0243, -0.1107,  0.0908,\n",
              "          0.2673],\n",
              "        [-0.1413, -0.0472,  0.1251,  0.1686, -0.0703, -0.1081, -0.0504,  0.1565,\n",
              "         -0.2834],\n",
              "        [-0.1876, -0.1754, -0.1854, -0.0793,  0.0834,  0.2334, -0.2758, -0.1953,\n",
              "         -0.1491],\n",
              "        [ 0.0802,  0.1840, -0.2685, -0.2198,  0.3177, -0.2288, -0.2421,  0.3198,\n",
              "         -0.1980],\n",
              "        [-0.2614, -0.2224, -0.1444,  0.2519,  0.3056, -0.2799,  0.2482,  0.0736,\n",
              "         -0.0679],\n",
              "        [ 0.0332, -0.1147,  0.3219,  0.0272,  0.2601, -0.2205,  0.0431,  0.0644,\n",
              "          0.1492],\n",
              "        [ 0.3308, -0.1587, -0.2124, -0.0628,  0.1513, -0.0193, -0.1542,  0.0247,\n",
              "          0.0187],\n",
              "        [-0.0159, -0.3140, -0.3069, -0.1619,  0.2310,  0.0007, -0.2929, -0.0578,\n",
              "         -0.1132],\n",
              "        [ 0.2949, -0.1858, -0.1261, -0.0593,  0.0890, -0.0008,  0.2559,  0.3299,\n",
              "          0.1010],\n",
              "        [-0.2268,  0.0611,  0.2065, -0.2726,  0.0076, -0.2869,  0.2824, -0.0941,\n",
              "         -0.0330],\n",
              "        [-0.1511, -0.0067,  0.0039,  0.2186, -0.1878, -0.0986, -0.0873, -0.2120,\n",
              "          0.1665],\n",
              "        [-0.2741, -0.2388, -0.0581, -0.0861, -0.2609,  0.3279,  0.1124, -0.0760,\n",
              "         -0.1672],\n",
              "        [-0.2434,  0.2133,  0.1949,  0.1959, -0.0100, -0.1660,  0.1950, -0.2112,\n",
              "         -0.0226],\n",
              "        [ 0.0635,  0.1700, -0.1336, -0.1753, -0.1762,  0.3281,  0.2676, -0.3006,\n",
              "          0.2991],\n",
              "        [-0.1381, -0.0287, -0.2173, -0.0893, -0.0528, -0.1866, -0.1039,  0.0549,\n",
              "          0.2333],\n",
              "        [ 0.1159, -0.0487,  0.2396,  0.2160,  0.2922,  0.1772,  0.1234,  0.2137,\n",
              "          0.1987],\n",
              "        [-0.0540,  0.1816,  0.1673,  0.3197, -0.1346,  0.0130, -0.2752,  0.1098,\n",
              "          0.0921],\n",
              "        [-0.2921,  0.2028, -0.0768, -0.2942, -0.0923,  0.3049, -0.0388, -0.3314,\n",
              "          0.3127],\n",
              "        [-0.2801, -0.0011, -0.0689, -0.1611, -0.0436,  0.0004, -0.0411,  0.1029,\n",
              "          0.1420],\n",
              "        [-0.0034,  0.0903,  0.0502, -0.2286,  0.0218,  0.0057,  0.2177, -0.2586,\n",
              "          0.0854],\n",
              "        [-0.0476,  0.0860, -0.2812, -0.1105, -0.0451, -0.0995, -0.1920,  0.1686,\n",
              "         -0.3311],\n",
              "        [-0.3065, -0.1191,  0.2531,  0.2258, -0.0972, -0.1719, -0.1658,  0.2105,\n",
              "         -0.3145],\n",
              "        [ 0.1899,  0.2575,  0.2525, -0.1493, -0.0081, -0.1465,  0.2491, -0.0926,\n",
              "          0.0392],\n",
              "        [ 0.0312,  0.1866, -0.1107, -0.1325,  0.0979, -0.3113, -0.2153,  0.3289,\n",
              "          0.2207],\n",
              "        [ 0.3283,  0.2738, -0.1257, -0.1121,  0.1048,  0.2657,  0.3297, -0.1877,\n",
              "         -0.2495],\n",
              "        [-0.2225,  0.0528,  0.0692,  0.1869, -0.0409, -0.0118,  0.1397,  0.2724,\n",
              "         -0.2899],\n",
              "        [-0.0413,  0.0745,  0.1887, -0.2317, -0.3262, -0.0775, -0.2853,  0.2189,\n",
              "          0.3275],\n",
              "        [ 0.2021,  0.0559, -0.2153, -0.2557, -0.0804,  0.0733, -0.1583,  0.2588,\n",
              "          0.1638],\n",
              "        [ 0.0433,  0.1577, -0.0448, -0.2137, -0.1960, -0.0570, -0.2222, -0.2973,\n",
              "          0.0710],\n",
              "        [-0.1236, -0.1898,  0.2766, -0.0660,  0.1465,  0.1902, -0.1060, -0.0404,\n",
              "         -0.1053],\n",
              "        [ 0.3250,  0.3196,  0.0594,  0.0649,  0.1751,  0.0765,  0.2921,  0.1633,\n",
              "         -0.0338],\n",
              "        [ 0.1697,  0.2829, -0.2759, -0.2054,  0.0084, -0.0947, -0.2149,  0.3295,\n",
              "          0.2701],\n",
              "        [-0.2589,  0.1567,  0.1810, -0.2582, -0.1926, -0.1204, -0.0234,  0.3195,\n",
              "          0.3304],\n",
              "        [-0.2091, -0.3051,  0.2175,  0.0201, -0.0935, -0.1817, -0.1161, -0.1489,\n",
              "          0.1397],\n",
              "        [ 0.1756,  0.3207,  0.1101, -0.0979, -0.2398, -0.0826,  0.0701,  0.1907,\n",
              "         -0.2455],\n",
              "        [ 0.3259, -0.0129, -0.2782,  0.2651,  0.3318,  0.1660,  0.0495,  0.0910,\n",
              "         -0.2473],\n",
              "        [-0.1143, -0.0317, -0.0492, -0.2235,  0.1770, -0.1491, -0.1046, -0.0936,\n",
              "         -0.0719],\n",
              "        [-0.1353,  0.0719,  0.1064,  0.0292, -0.1638,  0.1889, -0.2496,  0.1397,\n",
              "         -0.0191],\n",
              "        [ 0.2248,  0.2013,  0.1061, -0.2436, -0.1852, -0.0080, -0.1031,  0.0082,\n",
              "         -0.1134],\n",
              "        [-0.3000, -0.3194,  0.2883,  0.0689, -0.1096,  0.2867,  0.2527, -0.0060,\n",
              "         -0.1426],\n",
              "        [-0.0004,  0.0788, -0.1090,  0.1182, -0.2467, -0.2380, -0.2628, -0.1124,\n",
              "         -0.1075],\n",
              "        [ 0.2520, -0.2653,  0.1677, -0.0849,  0.2061,  0.1056,  0.3067, -0.1449,\n",
              "          0.0239],\n",
              "        [ 0.0489,  0.2696, -0.0374,  0.0621,  0.2597, -0.0602,  0.2812, -0.0192,\n",
              "          0.2578],\n",
              "        [ 0.2843, -0.2239,  0.1779, -0.0702, -0.3124, -0.0524, -0.0277,  0.0980,\n",
              "         -0.1442],\n",
              "        [ 0.1373, -0.2748,  0.0757,  0.1426,  0.2425,  0.1722,  0.3021, -0.0995,\n",
              "          0.2244],\n",
              "        [ 0.2856, -0.0222,  0.2541, -0.2107, -0.1887,  0.0740,  0.1392,  0.1651,\n",
              "          0.0774],\n",
              "        [-0.2488,  0.1012,  0.2212,  0.1333,  0.1164,  0.2730,  0.1540,  0.2958,\n",
              "          0.1019],\n",
              "        [-0.0169, -0.2759, -0.2303,  0.1807, -0.0636,  0.0974,  0.2206,  0.1933,\n",
              "         -0.2284],\n",
              "        [ 0.1067, -0.2334, -0.3276, -0.1769, -0.3290,  0.2682, -0.1795, -0.0031,\n",
              "         -0.0946],\n",
              "        [-0.1511, -0.3293, -0.0938, -0.1095, -0.0714,  0.2591,  0.0147,  0.3240,\n",
              "         -0.0880],\n",
              "        [-0.1880,  0.3097, -0.2914,  0.2354,  0.2565,  0.2509,  0.2413,  0.1626,\n",
              "         -0.1579],\n",
              "        [ 0.3009, -0.0678, -0.0233,  0.1360, -0.0308,  0.1327,  0.1719,  0.1898,\n",
              "         -0.1069],\n",
              "        [-0.2876,  0.3283,  0.2855, -0.1334, -0.0241, -0.3077, -0.1673, -0.1459,\n",
              "          0.1879],\n",
              "        [ 0.1543, -0.1448,  0.0526,  0.1998, -0.0719,  0.2655, -0.0097,  0.3321,\n",
              "          0.2240],\n",
              "        [ 0.3203, -0.3223,  0.0728, -0.1562,  0.1118, -0.2643, -0.1279, -0.1633,\n",
              "         -0.0515],\n",
              "        [-0.0336,  0.0225,  0.2498, -0.1786,  0.2236,  0.0467,  0.2454, -0.0208,\n",
              "         -0.2547],\n",
              "        [-0.1082,  0.0418, -0.1124,  0.2532,  0.1047, -0.2361,  0.3234, -0.1349,\n",
              "          0.2498],\n",
              "        [ 0.3047, -0.0601, -0.1118,  0.0871, -0.2988,  0.2196, -0.3189,  0.0197,\n",
              "          0.1873]], requires_grad=True)"
            ]
          },
          "metadata": {
            "tags": []
          },
          "execution_count": 57
        }
      ]
    },
    {
      "cell_type": "markdown",
      "metadata": {
        "id": "q-ewClmwbxji",
        "colab_type": "text"
      },
      "source": [
        "You can also pass in an `OrderedDict` to name the individual layers and operations, instead of using incremental integers. Note that dictionary keys must be unique, so _each operation must have a different name_."
      ]
    },
    {
      "cell_type": "code",
      "metadata": {
        "id": "JP6ra_Iwbxjj",
        "colab_type": "code",
        "colab": {
          "base_uri": "https://localhost:8080/",
          "height": 151
        },
        "outputId": "33d50ac9-cf51-4180-e02e-fc6253857882"
      },
      "source": [
        "from collections import OrderedDict\n",
        "model = nn.Sequential(OrderedDict([\n",
        "                      ('fc1', nn.Linear(input_size, hidden_sizes[0])),\n",
        "                      ('relu1', nn.ReLU()),\n",
        "                      ('fc2', nn.Linear(hidden_sizes[0], hidden_sizes[1])),\n",
        "                      ('relu2', nn.ReLU()),\n",
        "                      ('output', nn.Linear(hidden_sizes[1], output_size)),\n",
        "                      ('softmax', nn.Softmax(dim=1))]))\n",
        "model"
      ],
      "execution_count": 58,
      "outputs": [
        {
          "output_type": "execute_result",
          "data": {
            "text/plain": [
              "Sequential(\n",
              "  (fc1): Linear(in_features=784, out_features=128, bias=True)\n",
              "  (relu1): ReLU()\n",
              "  (fc2): Linear(in_features=128, out_features=64, bias=True)\n",
              "  (relu2): ReLU()\n",
              "  (output): Linear(in_features=64, out_features=10, bias=True)\n",
              "  (softmax): Softmax()\n",
              ")"
            ]
          },
          "metadata": {
            "tags": []
          },
          "execution_count": 58
        }
      ]
    },
    {
      "cell_type": "markdown",
      "metadata": {
        "id": "dht4C9nabxjk",
        "colab_type": "text"
      },
      "source": [
        "Now you can access layers either by integer or the name"
      ]
    },
    {
      "cell_type": "code",
      "metadata": {
        "id": "GmTK59Ckbxjl",
        "colab_type": "code",
        "colab": {
          "base_uri": "https://localhost:8080/",
          "height": 50
        },
        "outputId": "4f450bc8-6a76-4788-922b-73ce35fdfdd1"
      },
      "source": [
        "print(model[0])\n",
        "print(model.fc1)"
      ],
      "execution_count": 59,
      "outputs": [
        {
          "output_type": "stream",
          "text": [
            "Linear(in_features=784, out_features=128, bias=True)\n",
            "Linear(in_features=784, out_features=128, bias=True)\n"
          ],
          "name": "stdout"
        }
      ]
    },
    {
      "cell_type": "markdown",
      "metadata": {
        "id": "CChdxhdnbxjn",
        "colab_type": "text"
      },
      "source": [
        "In the next notebook, we'll see how we can train a neural network to accuractly predict the numbers appearing in the MNIST images."
      ]
    }
  ]
}